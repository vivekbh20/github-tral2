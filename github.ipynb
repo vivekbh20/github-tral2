{
 "cells": [
  {
   "cell_type": "code",
   "execution_count": null,
   "id": "66194774-ae1f-4f29-93a9-01e749122a38",
   "metadata": {},
   "outputs": [],
   "source": [
    "remote repo : \n",
    "github "
   ]
  },
  {
   "cell_type": "code",
   "execution_count": null,
   "id": "6e650a77-48f8-421f-8ce8-bb5fa465c229",
   "metadata": {},
   "outputs": [],
   "source": [
    "Cloud Version control System: \n",
    "\n",
    "Github\n",
    "gitlab \n",
    "bitbucket\n",
    "aws code commit "
   ]
  },
  {
   "cell_type": "markdown",
   "id": "484068ec-1a68-48ea-b7b0-7b5b1d530f62",
   "metadata": {},
   "source": [
    "# Create Repo on github"
   ]
  },
  {
   "cell_type": "code",
   "execution_count": null,
   "id": "b9e75338-5120-40e6-a4b5-45d3f1040005",
   "metadata": {},
   "outputs": [],
   "source": [
    "login to github.com \n",
    "New Repo >> Give the name >> Create repo"
   ]
  },
  {
   "cell_type": "code",
   "execution_count": null,
   "id": "17ee8bf2-a899-41f9-8e07-93aa3a27f274",
   "metadata": {},
   "outputs": [],
   "source": [
    "git remote add origin https://github.com/shri-vctc/github_project.git\n",
    "\n",
    "\n",
    "add remote link to the local repo \n",
    "\n",
    "\n",
    "git push -u origin main"
   ]
  },
  {
   "cell_type": "markdown",
   "id": "8ff4e0f9-7de1-46b0-98c0-3a9e04ba4208",
   "metadata": {},
   "source": [
    "# pull command "
   ]
  },
  {
   "cell_type": "code",
   "execution_count": null,
   "id": "b18cf71f-47ad-4a2e-bef8-f9f1c196df05",
   "metadata": {},
   "outputs": [],
   "source": [
    "Syntax: \n",
    "git pull \n",
    "\n",
    "\n",
    "it will check and download the remote repo changes to local repo "
   ]
  },
  {
   "cell_type": "code",
   "execution_count": null,
   "id": "a1a4c660-4c6a-49ef-af25-1e6ff422a0a5",
   "metadata": {},
   "outputs": [],
   "source": [
    "git push --set-upstream origin feature_data_ingestion\n",
    "\n",
    "upsteam is used to set the URL connection between local and remote repo "
   ]
  },
  {
   "cell_type": "code",
   "execution_count": null,
   "id": "460ab188-f803-4384-aa49-4992a7dc1671",
   "metadata": {},
   "outputs": [],
   "source": []
  },
  {
   "cell_type": "code",
   "execution_count": 1,
   "id": "97ca7c93-bf93-4caa-b4f9-d35bef3082b3",
   "metadata": {},
   "outputs": [],
   "source": [
    "### HOME WORK \n",
    "\n",
    "3 repo on github \n",
    "\n",
    "at least 2 branches into every github repo. \n"
   ]
  },
  {
   "cell_type": "markdown",
   "id": "cf6d9641-0768-46b9-85ae-b8aae66bf4c1",
   "metadata": {},
   "source": [
    "# Pull request on github  "
   ]
  },
  {
   "cell_type": "code",
   "execution_count": null,
   "id": "6fabe9c5-b951-441e-9b5d-f4a0b5ef90e6",
   "metadata": {},
   "outputs": [],
   "source": [
    "making request to the senior person to merge your branch to the main branch. \n",
    "\n"
   ]
  }
 ],
 "metadata": {
  "kernelspec": {
   "display_name": "Python 3 (ipykernel)",
   "language": "python",
   "name": "python3"
  },
  "language_info": {
   "codemirror_mode": {
    "name": "ipython",
    "version": 3
   },
   "file_extension": ".py",
   "mimetype": "text/x-python",
   "name": "python",
   "nbconvert_exporter": "python",
   "pygments_lexer": "ipython3",
   "version": "3.11.4"
  }
 },
 "nbformat": 4,
 "nbformat_minor": 5
}
